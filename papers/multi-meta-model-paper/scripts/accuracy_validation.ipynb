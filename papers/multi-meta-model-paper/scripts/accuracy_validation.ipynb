{
 "cells": [
  {
   "cell_type": "markdown",
   "source": [
    "# RQ3 - accuracy validation of the Meta-Model against individual models"
   ],
   "metadata": {
    "collapsed": false
   },
   "id": "7eeee9be0befd77e"
  },
  {
   "cell_type": "code",
   "outputs": [],
   "source": [
    "import statistics\n",
    "import matplotlib.pyplot as plt\n",
    "import numpy as np\n"
   ],
   "metadata": {
    "collapsed": false,
    "ExecuteTime": {
     "end_time": "2024-07-30T15:50:43.192362Z",
     "start_time": "2024-07-30T15:50:42.862101Z"
    }
   },
   "id": "59afc5048d0a1a9f",
   "execution_count": 1
  },
  {
   "cell_type": "code",
   "outputs": [],
   "source": [
    "model_id_8 = ['0', '1', '2', '3', '4', '5', '6', '7']\n",
    "model_id_16 = ['0', '1', '2', '3', '4', '5', '6', '7', '8', '9', '10', '11', '12', '13', '14', '15']\n",
    "\n",
    "model_8_mape_accuracies = [3.544, 13.829, 16.866, 3.568, 28.574, 11.421, 8.384, 22.24]\n",
    "model_8_nad_accuracies = [3.508, 13.223, 16.281, 3.649, 28.109, 11.595, 8.533, 21.707]\n",
    "model_8_rmsle_accuracies = [2.048, 6.913, 8.123, 2.416, 12.654, 6.478, 4.885, 10.234]\n",
    "\n",
    "model_16_mape_accuracies = [3.701, 13.143, 5.396, 10.937, 11.833, 14.184, 17.198, 24.316, 19.186, 3.792, 18.192, 27.227, 5.616, 3.756, 7.205, 20.245]\n",
    "model_16_nad_accuracies = [3.642, 12.969, 5.240, 10.828, 11.780, 14.178, 17.198, 24.258, 19.077, 3.713, 18.161, 27.191, 5.488, 3.817, 7.116, 20.269]\n",
    "model_16_rmsle_accuracies = [2.155, 7.243, 3.099, 5.473, 6.638, 6.734, 9.734, 14.173, 10.904, 2.240,8.434, 16.116, 3.184, 2.495, 3.862, 11.577]\n",
    "\n",
    "metamodel_8_mean_accuracy_mape = 7.8\n",
    "metamodel_8_mean_accuracy_nad = 7.5\n",
    "metamodel_8_mean_accuracy_rmsle = 4.2\n",
    "metamodel_8_median_accuracy_mape = 8.6\n",
    "metamodel_8_median_accuracy_nad = 8.3\n",
    "metamodel_8_median_accuracy_rmsle = 4.4\n",
    "\n",
    "metamodel_16_mean_accuracy_mape = 5.4\n",
    "metamodel_16_mean_accuracy_nad = 5.4\n",
    "metamodel_16_mean_accuracy_rmsle = 3.3\n",
    "metamodel_16_median_accuracy_mape = 4.2\n",
    "metamodel_16_median_accuracy_nad = 4.2\n",
    "metamodel_16_median_accuracy_rmsle = 2.6"
   ],
   "metadata": {
    "collapsed": false,
    "ExecuteTime": {
     "end_time": "2024-07-30T15:50:43.199220Z",
     "start_time": "2024-07-30T15:50:43.194829Z"
    }
   },
   "id": "fb1e3d176d801e1b",
   "execution_count": 2
  },
  {
   "cell_type": "code",
   "outputs": [],
   "source": [
    "def plot(model_errors, metric_name, mean_meta_model_error, median_meta_model_error, average_error, fig_name):\n",
    "    \"\"\"\n",
    "    This will plot a time series graph for the given data, with the x-axis being the model id and the y-axis being the error value. It will also have a line for the meta-model error, passing through the graph, horizontally. \n",
    "    \"\"\"\n",
    "    plt.plot(model_errors, color='blue', linestyle='--', label='Individual Model Error')\n",
    "    plt.axhline(y=average_error, color='red', linestyle=':', label='Average Error')\n",
    "    plt.axhline(y=mean_meta_model_error, color='#2ca02c', linestyle='-', label='Meta-Model (mean)')\n",
    "    plt.axhline(y=median_meta_model_error, color='#ff7f0e', linestyle='-', label='Meta-Model (median)')\n",
    "    plt.fill_between(np.arange(len(model_errors)), 0, average_error, facecolor='#e6ffe6', alpha=0.3)\n",
    "    # same for the top\n",
    "    plt.fill_between(np.arange(len(model_errors)), average_error, 30, facecolor='#ffe6e6', alpha=0.3)\n",
    "    \n",
    "    # plt.xlabel('Model ID', fontsize=18)\n",
    "    \n",
    "    # Set the x-ticks frequency to half the length of the data\n",
    "    xticks = 0\n",
    "    if len(model_errors) == 16:\n",
    "        xticks = np.arange(0, len(model_errors), step=len(model_errors)//4 + 1)\n",
    "    \n",
    "    if len(model_errors) == 8:\n",
    "        xticks = np.arange(0, len(model_errors), step=len(model_errors)//4)\n",
    "    plt.xticks(xticks, fontsize=14)\n",
    "    \n",
    "    plt.yticks(fontsize=14)\n",
    "    plt.title(metric_name, fontsize=18)\n",
    "    # plt.ylabel(f'Error [{metric_name}]', fontsize=14)\n",
    "    plt.ylim([0, 30])\n",
    "    \n",
    "    # move the legend to the top\n",
    "    # plt.legend(loc='upper center', bbox_to_anchor=(0.5, 1.15), shadow=False, ncol=2)\n",
    "    plt.savefig(fig_name, bbox_inches='tight')\n",
    "    \n",
    "    plt.close()"
   ],
   "metadata": {
    "collapsed": false,
    "ExecuteTime": {
     "end_time": "2024-07-30T15:50:43.202505Z",
     "start_time": "2024-07-30T15:50:43.199244Z"
    }
   },
   "id": "9ec6863b67c56e13",
   "execution_count": 3
  },
  {
   "cell_type": "code",
   "outputs": [],
   "source": [
    "plot(\n",
    "    model_errors=model_8_mape_accuracies,\n",
    "    metric_name='MAPE',\n",
    "    mean_meta_model_error=metamodel_8_mean_accuracy_mape,\n",
    "    median_meta_model_error=metamodel_8_median_accuracy_mape,\n",
    "    average_error=statistics.mean(model_8_mape_accuracies),\n",
    "    fig_name='plots/rq3_model_8_mape_accuracies.svg'\n",
    ")\n",
    "\n",
    "plot(\n",
    "    model_errors=model_8_nad_accuracies,\n",
    "    metric_name='NAD',\n",
    "    mean_meta_model_error=metamodel_8_mean_accuracy_nad,\n",
    "    median_meta_model_error=metamodel_8_median_accuracy_nad,\n",
    "    average_error=statistics.mean(model_8_nad_accuracies),\n",
    "    fig_name='plots/rq3_model_8_nad_accuracies.svg'\n",
    ")\n",
    "\n",
    "plot(\n",
    "    model_errors=model_8_rmsle_accuracies,\n",
    "    metric_name='RMSLE',\n",
    "    mean_meta_model_error=metamodel_8_mean_accuracy_rmsle,\n",
    "    median_meta_model_error=metamodel_8_median_accuracy_rmsle,\n",
    "    average_error=statistics.mean(model_8_rmsle_accuracies),\n",
    "    fig_name='plots/rq3_model_8_rmsle_accuracies.svg'\n",
    ")\n",
    "\n",
    "plot(\n",
    "    model_errors=model_16_mape_accuracies,\n",
    "    metric_name='MAPE',\n",
    "    mean_meta_model_error=metamodel_16_mean_accuracy_mape,\n",
    "    median_meta_model_error=metamodel_16_median_accuracy_mape,\n",
    "    average_error=statistics.mean(model_16_mape_accuracies),\n",
    "    fig_name='plots/rq3_model_16_mape_accuracies.svg'\n",
    ")\n",
    "\n",
    "plot(\n",
    "    model_errors=model_16_nad_accuracies,\n",
    "    metric_name='NAD',\n",
    "    mean_meta_model_error=metamodel_16_mean_accuracy_nad,\n",
    "    median_meta_model_error=metamodel_16_median_accuracy_nad,\n",
    "    average_error=statistics.mean(model_16_nad_accuracies),\n",
    "    fig_name='plots/rq3_model_16_nad_accuracies.svg'\n",
    ")\n",
    "\n",
    "plot(\n",
    "    model_errors=model_16_rmsle_accuracies,\n",
    "    metric_name='RMSLE',\n",
    "    mean_meta_model_error=metamodel_16_mean_accuracy_rmsle,\n",
    "    median_meta_model_error=metamodel_16_median_accuracy_rmsle,\n",
    "    average_error=statistics.mean(model_16_rmsle_accuracies),\n",
    "    fig_name='plots/rq3_model_16_rmsle_accuracies.svg'\n",
    ")"
   ],
   "metadata": {
    "collapsed": false,
    "ExecuteTime": {
     "end_time": "2024-07-30T15:50:43.455275Z",
     "start_time": "2024-07-30T15:50:43.203203Z"
    }
   },
   "id": "30ddff6203e99a56",
   "execution_count": 4
  },
  {
   "cell_type": "code",
   "outputs": [],
   "source": [],
   "metadata": {
    "collapsed": false,
    "ExecuteTime": {
     "end_time": "2024-07-30T15:50:43.459097Z",
     "start_time": "2024-07-30T15:50:43.455464Z"
    }
   },
   "id": "cddae63b1a7f7e01",
   "execution_count": 4
  }
 ],
 "metadata": {
  "kernelspec": {
   "display_name": "Python 3",
   "language": "python",
   "name": "python3"
  },
  "language_info": {
   "codemirror_mode": {
    "name": "ipython",
    "version": 2
   },
   "file_extension": ".py",
   "mimetype": "text/x-python",
   "name": "python",
   "nbconvert_exporter": "python",
   "pygments_lexer": "ipython2",
   "version": "2.7.6"
  }
 },
 "nbformat": 4,
 "nbformat_minor": 5
}
